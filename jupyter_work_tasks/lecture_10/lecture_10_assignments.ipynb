{
 "cells": [
  {
   "cell_type": "code",
   "execution_count": 1,
   "id": "4119e706",
   "metadata": {},
   "outputs": [],
   "source": [
    "import numpy as np\n",
    "import pandas as pd\n",
    "import matplotlib.pyplot as plt\n",
    "\n",
    "from sklearn.neural_network import MLPClassifier\n",
    "\n",
    "from sklearn.neighbors import NearestCentroid\n",
    "\n",
    "from sklearn.pipeline import make_pipeline\n",
    "from sklearn.preprocessing import StandardScaler\n",
    "from sklearn.svm import SVC\n",
    "\n",
    "from sklearn.datasets import load_wine\n",
    "\n",
    "from random import *\n",
    "\n",
    "from sklearn.neighbors import KNeighborsClassifier\n",
    "from sklearn.gaussian_process import GaussianProcessClassifier\n",
    "from sklearn.gaussian_process.kernels import RBF\n",
    "from sklearn.tree import DecisionTreeClassifier\n",
    "from sklearn.ensemble import RandomForestClassifier, AdaBoostClassifier\n",
    "from sklearn.naive_bayes import GaussianNB\n",
    "from sklearn.discriminant_analysis import QuadraticDiscriminantAnalysis\n"
   ]
  },
  {
   "cell_type": "code",
   "execution_count": 2,
   "id": "513bbd04",
   "metadata": {},
   "outputs": [],
   "source": [
    "def sigmoid(z, prime=False):\n",
    "   if prime:\n",
    "      return z * (1 - z)\n",
    "   return 1 / (1 + np.exp(-z))"
   ]
  },
  {
   "cell_type": "code",
   "execution_count": 3,
   "id": "9151ef9f",
   "metadata": {},
   "outputs": [],
   "source": [
    "def tanh(z, prime=False):\n",
    "   if prime:\n",
    "      return 1 - z ** 2\n",
    "   return np.tanh(z)"
   ]
  },
  {
   "cell_type": "code",
   "execution_count": 4,
   "id": "db4cc023",
   "metadata": {},
   "outputs": [],
   "source": [
    "def relu(z, prime=False):\n",
    "   if prime:\n",
    "      if z <= 0:\n",
    "            return 0\n",
    "      else:\n",
    "            return 1\n",
    "   return np.maximum(0, z)"
   ]
  },
  {
   "cell_type": "code",
   "execution_count": 5,
   "id": "56937605",
   "metadata": {},
   "outputs": [],
   "source": [
    "def leaky_relu(z, prime=False):\n",
    "   epsilon = 0.1 # epsilon should be much smaller\n",
    "   if prime:\n",
    "      if z <= 0:\n",
    "            return -epsilon\n",
    "      else:\n",
    "            return 1\n",
    "   return np.maximum(z * epsilon, z)"
   ]
  },
  {
   "cell_type": "code",
   "execution_count": 6,
   "id": "8c34ac27",
   "metadata": {},
   "outputs": [],
   "source": [
    "X = np.array([[0,0], [0,1], [1, 0], [1, 1]])\n",
    "y = np.array([0, 1, 1, 0])"
   ]
  },
  {
   "cell_type": "code",
   "execution_count": 7,
   "id": "3adba009",
   "metadata": {},
   "outputs": [
    {
     "data": {
      "text/plain": [
       "array([0, 1, 1, 0])"
      ]
     },
     "execution_count": 7,
     "metadata": {},
     "output_type": "execute_result"
    }
   ],
   "source": [
    "mlpc = MLPClassifier(max_iter=5000)\n",
    "mlpc.fit(X, y)\n",
    "\n",
    "mlpc.predict(X)"
   ]
  },
  {
   "cell_type": "code",
   "execution_count": 8,
   "id": "5c9a38bb",
   "metadata": {},
   "outputs": [],
   "source": [
    "h = mlpc.predict(X)"
   ]
  },
  {
   "cell_type": "code",
   "execution_count": 9,
   "id": "100d854d",
   "metadata": {},
   "outputs": [
    {
     "data": {
      "text/plain": [
       "array([0, 1, 1, 0])"
      ]
     },
     "execution_count": 9,
     "metadata": {},
     "output_type": "execute_result"
    }
   ],
   "source": [
    "h"
   ]
  },
  {
   "cell_type": "code",
   "execution_count": 10,
   "id": "97a81ac3",
   "metadata": {},
   "outputs": [
    {
     "data": {
      "text/plain": [
       "NearestCentroid()"
      ]
     },
     "execution_count": 10,
     "metadata": {},
     "output_type": "execute_result"
    }
   ],
   "source": [
    "#Assignment 12\n",
    "#Nearest neighbor - NOT WORKING\n",
    "n_clf = NearestCentroid()\n",
    "n_clf.fit(X, y)"
   ]
  },
  {
   "cell_type": "code",
   "execution_count": 11,
   "id": "d0697a44",
   "metadata": {},
   "outputs": [
    {
     "name": "stdout",
     "output_type": "stream",
     "text": [
      "[0 0 0 0]\n"
     ]
    }
   ],
   "source": [
    "print(n_clf.predict(X))"
   ]
  },
  {
   "cell_type": "code",
   "execution_count": 12,
   "id": "5922e3c8",
   "metadata": {},
   "outputs": [],
   "source": [
    "#SGD - NOT WORKING\n",
    "from sklearn.linear_model import SGDClassifier\n",
    "from sklearn.preprocessing import StandardScaler\n",
    "from sklearn.pipeline import make_pipeline\n"
   ]
  },
  {
   "cell_type": "code",
   "execution_count": 13,
   "id": "2fa87e52",
   "metadata": {},
   "outputs": [
    {
     "name": "stdout",
     "output_type": "stream",
     "text": [
      "[1 1 1 1]\n"
     ]
    },
    {
     "name": "stderr",
     "output_type": "stream",
     "text": [
      "C:\\Users\\Jeppe N. Dyekjær\\Documents\\4.Softwareudvikling_KEA\\6. Semester\\Git_Projekter\\AI_Tasks\\jupyter_work_tasks\\lib\\site-packages\\sklearn\\linear_model\\_stochastic_gradient.py:703: ConvergenceWarning: Maximum number of iteration reached before convergence. Consider increasing max_iter to improve the fit.\n",
      "  warnings.warn(\n"
     ]
    }
   ],
   "source": [
    "sgd_clf = make_pipeline(StandardScaler(),SGDClassifier(max_iter=1000, tol=1e-3))\n",
    "sgd_clf.fit(X, y)\n",
    "print(sgd_clf.predict(X))"
   ]
  },
  {
   "cell_type": "code",
   "execution_count": 14,
   "id": "eb7f31ee",
   "metadata": {},
   "outputs": [
    {
     "data": {
      "text/plain": [
       "Pipeline(steps=[('standardscaler', StandardScaler()),\n",
       "                ('svc', SVC(gamma='auto'))])"
      ]
     },
     "execution_count": 14,
     "metadata": {},
     "output_type": "execute_result"
    }
   ],
   "source": [
    " #SVC - WORKING\n",
    "svc_clf = make_pipeline(StandardScaler(), SVC(gamma='auto'))\n",
    "svc_clf.fit(X, y)"
   ]
  },
  {
   "cell_type": "code",
   "execution_count": 15,
   "id": "3416e78d",
   "metadata": {},
   "outputs": [
    {
     "name": "stdout",
     "output_type": "stream",
     "text": [
      "[0 1 1 0]\n"
     ]
    }
   ],
   "source": [
    "print(svc_clf.predict(X))"
   ]
  },
  {
   "cell_type": "code",
   "execution_count": 16,
   "id": "339a777b",
   "metadata": {},
   "outputs": [
    {
     "data": {
      "text/html": [
       "<div>\n",
       "<style scoped>\n",
       "    .dataframe tbody tr th:only-of-type {\n",
       "        vertical-align: middle;\n",
       "    }\n",
       "\n",
       "    .dataframe tbody tr th {\n",
       "        vertical-align: top;\n",
       "    }\n",
       "\n",
       "    .dataframe thead th {\n",
       "        text-align: right;\n",
       "    }\n",
       "</style>\n",
       "<table border=\"1\" class=\"dataframe\">\n",
       "  <thead>\n",
       "    <tr style=\"text-align: right;\">\n",
       "      <th></th>\n",
       "      <th>alcohol</th>\n",
       "      <th>malic_acid</th>\n",
       "      <th>ash</th>\n",
       "      <th>alcalinity_of_ash</th>\n",
       "      <th>magnesium</th>\n",
       "      <th>total_phenols</th>\n",
       "      <th>flavanoids</th>\n",
       "      <th>nonflavanoid_phenols</th>\n",
       "      <th>proanthocyanins</th>\n",
       "      <th>color_intensity</th>\n",
       "      <th>hue</th>\n",
       "      <th>od280/od315_of_diluted_wines</th>\n",
       "      <th>proline</th>\n",
       "    </tr>\n",
       "  </thead>\n",
       "  <tbody>\n",
       "    <tr>\n",
       "      <th>0</th>\n",
       "      <td>14.23</td>\n",
       "      <td>1.71</td>\n",
       "      <td>2.43</td>\n",
       "      <td>15.6</td>\n",
       "      <td>127.0</td>\n",
       "      <td>2.80</td>\n",
       "      <td>3.06</td>\n",
       "      <td>0.28</td>\n",
       "      <td>2.29</td>\n",
       "      <td>5.64</td>\n",
       "      <td>1.04</td>\n",
       "      <td>3.92</td>\n",
       "      <td>1065.0</td>\n",
       "    </tr>\n",
       "    <tr>\n",
       "      <th>1</th>\n",
       "      <td>13.20</td>\n",
       "      <td>1.78</td>\n",
       "      <td>2.14</td>\n",
       "      <td>11.2</td>\n",
       "      <td>100.0</td>\n",
       "      <td>2.65</td>\n",
       "      <td>2.76</td>\n",
       "      <td>0.26</td>\n",
       "      <td>1.28</td>\n",
       "      <td>4.38</td>\n",
       "      <td>1.05</td>\n",
       "      <td>3.40</td>\n",
       "      <td>1050.0</td>\n",
       "    </tr>\n",
       "    <tr>\n",
       "      <th>2</th>\n",
       "      <td>13.16</td>\n",
       "      <td>2.36</td>\n",
       "      <td>2.67</td>\n",
       "      <td>18.6</td>\n",
       "      <td>101.0</td>\n",
       "      <td>2.80</td>\n",
       "      <td>3.24</td>\n",
       "      <td>0.30</td>\n",
       "      <td>2.81</td>\n",
       "      <td>5.68</td>\n",
       "      <td>1.03</td>\n",
       "      <td>3.17</td>\n",
       "      <td>1185.0</td>\n",
       "    </tr>\n",
       "    <tr>\n",
       "      <th>3</th>\n",
       "      <td>14.37</td>\n",
       "      <td>1.95</td>\n",
       "      <td>2.50</td>\n",
       "      <td>16.8</td>\n",
       "      <td>113.0</td>\n",
       "      <td>3.85</td>\n",
       "      <td>3.49</td>\n",
       "      <td>0.24</td>\n",
       "      <td>2.18</td>\n",
       "      <td>7.80</td>\n",
       "      <td>0.86</td>\n",
       "      <td>3.45</td>\n",
       "      <td>1480.0</td>\n",
       "    </tr>\n",
       "    <tr>\n",
       "      <th>4</th>\n",
       "      <td>13.24</td>\n",
       "      <td>2.59</td>\n",
       "      <td>2.87</td>\n",
       "      <td>21.0</td>\n",
       "      <td>118.0</td>\n",
       "      <td>2.80</td>\n",
       "      <td>2.69</td>\n",
       "      <td>0.39</td>\n",
       "      <td>1.82</td>\n",
       "      <td>4.32</td>\n",
       "      <td>1.04</td>\n",
       "      <td>2.93</td>\n",
       "      <td>735.0</td>\n",
       "    </tr>\n",
       "  </tbody>\n",
       "</table>\n",
       "</div>"
      ],
      "text/plain": [
       "   alcohol  malic_acid   ash  alcalinity_of_ash  magnesium  total_phenols  \\\n",
       "0    14.23        1.71  2.43               15.6      127.0           2.80   \n",
       "1    13.20        1.78  2.14               11.2      100.0           2.65   \n",
       "2    13.16        2.36  2.67               18.6      101.0           2.80   \n",
       "3    14.37        1.95  2.50               16.8      113.0           3.85   \n",
       "4    13.24        2.59  2.87               21.0      118.0           2.80   \n",
       "\n",
       "   flavanoids  nonflavanoid_phenols  proanthocyanins  color_intensity   hue  \\\n",
       "0        3.06                  0.28             2.29             5.64  1.04   \n",
       "1        2.76                  0.26             1.28             4.38  1.05   \n",
       "2        3.24                  0.30             2.81             5.68  1.03   \n",
       "3        3.49                  0.24             2.18             7.80  0.86   \n",
       "4        2.69                  0.39             1.82             4.32  1.04   \n",
       "\n",
       "   od280/od315_of_diluted_wines  proline  \n",
       "0                          3.92   1065.0  \n",
       "1                          3.40   1050.0  \n",
       "2                          3.17   1185.0  \n",
       "3                          3.45   1480.0  \n",
       "4                          2.93    735.0  "
      ]
     },
     "execution_count": 16,
     "metadata": {},
     "output_type": "execute_result"
    }
   ],
   "source": [
    "#Wine data\n",
    "wine_df= pd.DataFrame(load_wine().data, columns=load_wine().feature_names)\n",
    "\n",
    "wine_df.head()"
   ]
  },
  {
   "cell_type": "code",
   "execution_count": 17,
   "id": "a2efd027",
   "metadata": {},
   "outputs": [
    {
     "data": {
      "text/plain": [
       "<matplotlib.collections.PathCollection at 0x24d25e6ab50>"
      ]
     },
     "execution_count": 17,
     "metadata": {},
     "output_type": "execute_result"
    },
    {
     "data": {
      "image/png": "[encoded data removed]",
      "text/plain": [
       "<Figure size 432x288 with 1 Axes>"
      ]
     },
     "metadata": {
      "needs_background": "light"
     },
     "output_type": "display_data"
    }
   ],
   "source": [
    "x_alcohol = wine_df[\"alcohol\"]\n",
    "y_proline = wine_df[\"proline\"]\n",
    "plt.scatter(x_alcohol, y_proline)"
   ]
  },
  {
   "cell_type": "code",
   "execution_count": 35,
   "id": "7db1f351",
   "metadata": {},
   "outputs": [
    {
     "data": {
      "text/plain": [
       "array([520., 680., 680., 520., 680., 520., 520., 520., 520., 520., 520.,\n",
       "       520., 520., 520., 520., 680., 520., 520., 520., 680., 520., 680.,\n",
       "       680., 680., 680., 680., 680., 680., 520., 520., 520., 680., 680.,\n",
       "       520., 680., 680., 680., 680., 680., 520., 680., 680., 520., 680.,\n",
       "       680., 520., 520., 520., 520., 520., 680., 520., 520., 520., 520.,\n",
       "       680., 520., 680., 680., 680., 680., 680., 680., 680., 680., 680.,\n",
       "       680., 680., 680., 680., 680., 520., 680., 680., 680., 680., 680.,\n",
       "       680., 680., 680., 680., 680., 680., 680., 680., 680., 680., 680.,\n",
       "       680., 680., 680., 680., 680., 680., 680., 680., 680., 680., 680.,\n",
       "       680., 680., 680., 680., 680., 680., 680., 680., 680., 680., 680.,\n",
       "       680., 680., 680., 680., 680., 680., 680., 680., 680., 680., 680.,\n",
       "       680., 680., 680., 680., 680., 680., 680., 680., 680., 680., 680.,\n",
       "       680., 680., 680., 680., 680., 680., 680., 680., 680., 680., 680.,\n",
       "       680., 680., 680., 520., 680., 680., 680., 680., 680., 680., 680.,\n",
       "       680., 680., 520., 680., 520., 680., 680., 680., 680., 680., 520.,\n",
       "       520., 680., 680., 680., 680., 680., 680., 520., 680., 680., 680.,\n",
       "       680., 520.])"
      ]
     },
     "execution_count": 35,
     "metadata": {},
     "output_type": "execute_result"
    }
   ],
   "source": [
    "mlpc_wine = MLPClassifier(max_iter=100)\n",
    "x_alcohol_shape = x_alcohol.to_numpy().reshape(-1, 1)\n",
    "y_proline_shape = y_proline.to_numpy()\n",
    "\n",
    "mlpc_wine.fit(x_alcohol_shape, y_proline_shape)\n",
    "mlpc_wine.predict(x_alcohol_shape)"
   ]
  },
  {
   "cell_type": "code",
   "execution_count": 19,
   "id": "923aee92",
   "metadata": {},
   "outputs": [],
   "source": [
    "def evaluate(H, Y, beta=1.0):\n",
    "   tp = sum((Y == H) * (Y == 1) * 1)\n",
    "   tn = sum((Y == H) * (Y == 0) * 1)\n",
    "   fp = sum((Y != H) * (Y == 0) * 1)\n",
    "   fn = sum((Y != H) * (Y == 1) * 1)\n",
    "\n",
    "   accuracy = (tp + tn) / (tp + fp + fn + tn)\n",
    "   sensitivity = tp / (tp + fn)\n",
    "   specificity = tn / (fp + tn)\n",
    "   precision = tp / (tp + fp)\n",
    "   recall = sensitivity\n",
    "   f_score = ( (beta**2 + 1) * precision * recall) / (beta**2 * precision + recall)\n",
    "   auc = (sensitivity + specificity) / 2\n",
    "   youden = sensitivity - (1 - specificity)\n",
    "   p_plus = sensitivity / (1 - specificity)\n",
    "   p_minus = (1 - sensitivity) / specificity\n",
    "   dp = (np.sqrt(3) / np.pi) * (np.log(sensitivity/(1 - sensitivity) + np.log(specificity/(1 - specificity))))\n",
    "\n",
    "   result = {}\n",
    "   result[\"tp\"] = tp\n",
    "   result[\"tn\"] = tn\n",
    "   result[\"fp\"] = fp\n",
    "   result[\"fn\"] = fn\n",
    "   result[\"accuracy\"] = accuracy\n",
    "   result[\"sensitivity\"] = sensitivity\n",
    "   result[\"specificity\"] = specificity\n",
    "   result[\"precision\"] = precision\n",
    "   result[\"recall\"] = recall\n",
    "   result[\"f-score\"] = f_score\n",
    "   result[\"AUC\"] = auc\n",
    "   result[\"Youden\"] = youden\n",
    "   result[\"p+\"] = p_plus\n",
    "   result[\"p-\"] = p_minus\n",
    "   result[\"DP\"] = dp\n",
    "\n",
    "   return result"
   ]
  },
  {
   "cell_type": "code",
   "execution_count": 36,
   "id": "0bc88402",
   "metadata": {},
   "outputs": [],
   "source": [
    "H = [520., 680., 680., 520., 680., 520., 520., 520., 520., 520., 520.,\n",
    "       520., 520., 520., 520., 680., 520., 520., 520., 680., 520., 680.,\n",
    "       680., 680., 680., 680., 680., 680., 520., 520., 520., 680., 680.,\n",
    "       520., 680., 680., 680., 680., 680., 520., 680., 680., 520., 680.,\n",
    "       680., 520., 520., 520., 520., 520., 680., 520., 520., 520., 520.,\n",
    "       680., 520., 680., 680., 680., 680., 680., 680., 680., 680., 680.,\n",
    "       680., 680., 680., 680., 680., 520., 680., 680., 680., 680., 680.,\n",
    "       680., 680., 680., 680., 680., 680., 680., 680., 680., 680., 680.,\n",
    "       680., 680., 680., 680., 680., 680., 680., 680., 680., 680., 680.,\n",
    "       680., 680., 680., 680., 680., 680., 680., 680., 680., 680., 680.,\n",
    "       680., 680., 680., 680., 680., 680., 680., 680., 680., 680., 680.,\n",
    "       680., 680., 680., 680., 680., 680., 680., 680., 680., 680., 680.,\n",
    "       680., 680., 680., 680., 680., 680., 680., 680., 680., 680., 680.,\n",
    "       680., 680., 680., 520., 680., 680., 680., 680., 680., 680., 680.,\n",
    "       680., 680., 520., 680., 520., 680., 680., 680., 680., 680., 520.,\n",
    "       520., 680., 680., 680., 680., 680., 680., 520., 680., 680., 680.,\n",
    "       680., 520.]"
   ]
  },
  {
   "cell_type": "code",
   "execution_count": 43,
   "id": "b52bdea0",
   "metadata": {},
   "outputs": [
    {
     "data": {
      "text/plain": [
       "array([0, 2, 2, 0, 2, 2, 1, 2, 3])"
      ]
     },
     "execution_count": 43,
     "metadata": {},
     "output_type": "execute_result"
    }
   ],
   "source": [
    "#Assignment 15\n",
    "X_2 = np.array([[0,1], [0,2], [3, 1], [1, 1], [2, 1], [2,1], [3,2], [1,2], [2,2]])\n",
    "y_2 = np.array([0, 2, 2, 0, 4, 2, 1, 2, 3])\n",
    "\n",
    "mlpc = MLPClassifier(max_iter=5000)\n",
    "mlpc.fit(X_2, y_2)\n",
    "\n",
    "h_2 = mlpc.predict(X_2)\n",
    "h_2"
   ]
  },
  {
   "cell_type": "code",
   "execution_count": 44,
   "id": "f27377b6",
   "metadata": {},
   "outputs": [
    {
     "name": "stderr",
     "output_type": "stream",
     "text": [
      "C:\\Users\\JEPPEN~1.DYE\\AppData\\Local\\Temp/ipykernel_6268/1143329567.py:15: RuntimeWarning: divide by zero encountered in double_scalars\n",
      "  p_plus = sensitivity / (1 - specificity)\n",
      "C:\\Users\\JEPPEN~1.DYE\\AppData\\Local\\Temp/ipykernel_6268/1143329567.py:17: RuntimeWarning: divide by zero encountered in double_scalars\n",
      "  dp = (np.sqrt(3) / np.pi) * (np.log(sensitivity/(1 - sensitivity) + np.log(specificity/(1 - specificity))))\n"
     ]
    },
    {
     "data": {
      "text/plain": [
       "{'tp': 1,\n",
       " 'tn': 2,\n",
       " 'fp': 0,\n",
       " 'fn': 0,\n",
       " 'accuracy': 1.0,\n",
       " 'sensitivity': 1.0,\n",
       " 'specificity': 1.0,\n",
       " 'precision': 1.0,\n",
       " 'recall': 1.0,\n",
       " 'f-score': 1.0,\n",
       " 'AUC': 1.0,\n",
       " 'Youden': 1.0,\n",
       " 'p+': inf,\n",
       " 'p-': 0.0,\n",
       " 'DP': inf}"
      ]
     },
     "execution_count": 44,
     "metadata": {},
     "output_type": "execute_result"
    }
   ],
   "source": [
    "evaluate(h_2, y_2)"
   ]
  },
  {
   "cell_type": "code",
   "execution_count": 20,
   "id": "14572d64",
   "metadata": {},
   "outputs": [],
   "source": [
    "#MNIST\n",
    "import time\n",
    "import numpy as np\n",
    "import matplotlib.pyplot as plt\n",
    "from sklearn.datasets import fetch_openml"
   ]
  },
  {
   "cell_type": "code",
   "execution_count": 21,
   "id": "fa6467f3",
   "metadata": {},
   "outputs": [],
   "source": [
    "mnist = fetch_openml('mnist_784', data_home='~/datasets/mnist')"
   ]
  },
  {
   "cell_type": "code",
   "execution_count": 22,
   "id": "4b681e0c",
   "metadata": {},
   "outputs": [
    {
     "data": {
      "text/plain": [
       "(70000, 784)"
      ]
     },
     "execution_count": 22,
     "metadata": {},
     "output_type": "execute_result"
    }
   ],
   "source": [
    "# check dataset: 70,000 samples, 784 features\n",
    "mnist.data.shape"
   ]
  },
  {
   "cell_type": "code",
   "execution_count": 23,
   "id": "aad393d3",
   "metadata": {},
   "outputs": [
    {
     "data": {
      "text/plain": [
       "array(['5', '0', '4', ..., '4', '5', '6'], dtype=object)"
      ]
     },
     "execution_count": 23,
     "metadata": {},
     "output_type": "execute_result"
    }
   ],
   "source": [
    "Z = np.c_[mnist.target, mnist.data]\n",
    "Z[:,0]"
   ]
  },
  {
   "cell_type": "code",
   "execution_count": 24,
   "id": "720a4067",
   "metadata": {},
   "outputs": [],
   "source": [
    "# split data and labels into X and Y\n",
    "X = Z[:,1:]\n",
    "Y = Z[:,0]"
   ]
  },
  {
   "cell_type": "code",
   "execution_count": 25,
   "id": "9ba11235",
   "metadata": {},
   "outputs": [
    {
     "name": "stdout",
     "output_type": "stream",
     "text": [
      "4\n"
     ]
    },
    {
     "data": {
      "image/png": "[encoded data removed]",
      "text/plain": [
       "<Figure size 432x288 with 1 Axes>"
      ]
     },
     "metadata": {
      "needs_background": "light"
     },
     "output_type": "display_data"
    }
   ],
   "source": [
    "idx = 1030\n",
    "X = np.asarray(X, dtype=int)\n",
    "print(Y[idx])\n",
    "img = plt.imshow(X[idx].reshape(28,28), cmap='gray_r')"
   ]
  },
  {
   "cell_type": "code",
   "execution_count": 26,
   "id": "ca334106",
   "metadata": {},
   "outputs": [],
   "source": [
    "# training set\n",
    "X_train = X[0:50000]\n",
    "Y_train = Y[0:50000]\n",
    "\n",
    "# validation set\n",
    "X_val = X[50000:60000]\n",
    "Y_val = Y[50000:60000]\n",
    "\n",
    "# test set\n",
    "X_test = X[60000:70000]\n",
    "Y_test = Y[60000:70000]"
   ]
  },
  {
   "cell_type": "code",
   "execution_count": 27,
   "id": "7808ebf8",
   "metadata": {},
   "outputs": [
    {
     "data": {
      "text/plain": [
       "(50000, 784)"
      ]
     },
     "execution_count": 27,
     "metadata": {},
     "output_type": "execute_result"
    }
   ],
   "source": [
    "X_train.shape"
   ]
  },
  {
   "cell_type": "code",
   "execution_count": 28,
   "id": "6b2aaa17",
   "metadata": {},
   "outputs": [],
   "source": [
    "classifier_names = [\n",
    "    \"Decision Tree\",\n",
    "    \"Random Forest\", \n",
    "    \"Neural Net (75, 75)\", \n",
    "    \"Neural Net (784, 784, 784)\", \n",
    "    \"Naive Bayes\"\n",
    "]"
   ]
  },
  {
   "cell_type": "code",
   "execution_count": 29,
   "id": "eb95d6a0",
   "metadata": {},
   "outputs": [],
   "source": [
    "classifiers = [\n",
    "    DecisionTreeClassifier(),\n",
    "    RandomForestClassifier(n_estimators=100),\n",
    "    MLPClassifier(hidden_layer_sizes=(75, 75)),\n",
    "    MLPClassifier(hidden_layer_sizes=(784, 784, 784)),\n",
    "    GaussianNB(),\n",
    "]"
   ]
  },
  {
   "cell_type": "code",
   "execution_count": 30,
   "id": "aa2f3e9e",
   "metadata": {},
   "outputs": [
    {
     "name": "stdout",
     "output_type": "stream",
     "text": [
      "** Decision Tree\n",
      "\tTraining time:\t\t17.881\n",
      "\tPrediction time(train):\t0.036\n",
      "\tPrediction time(test):\t0.067\n",
      "\tScore Train: 1.000\tScore Test: 0.872\n",
      "** Random Forest\n",
      "\tTraining time:\t\t39.035\n",
      "\tPrediction time(train):\t0.429\n",
      "\tPrediction time(test):\t0.420\n",
      "\tScore Train: 1.000\tScore Test: 0.969\n",
      "** Neural Net (75, 75)\n",
      "\tTraining time:\t\t173.345\n",
      "\tPrediction time(train):\t0.084\n",
      "\tPrediction time(test):\t0.101\n",
      "\tScore Train: 0.997\tScore Test: 0.966\n",
      "** Neural Net (784, 784, 784)\n",
      "\tTraining time:\t\t979.981\n",
      "\tPrediction time(train):\t0.507\n",
      "\tPrediction time(test):\t0.508\n",
      "\tScore Train: 0.993\tScore Test: 0.975\n",
      "** Naive Bayes\n",
      "\tTraining time:\t\t0.757\n",
      "\tPrediction time(train):\t0.706\n",
      "\tPrediction time(test):\t0.709\n",
      "\tScore Train: 0.567\tScore Test: 0.554\n"
     ]
    }
   ],
   "source": [
    "for clf, clf_name in zip(classifiers, classifier_names):\n",
    "    print(f\"** {clf_name}\")\n",
    "    t0 = time.time()\n",
    "    clf.fit(X_train, Y_train)\n",
    "    t1 = time.time()\n",
    "    print(f\"\\tTraining time:\\t\\t{t1-t0:3.3f}\")\n",
    "    score_train = clf.score(X_train[0:10000], Y_train[0:10000])\n",
    "    t2 = time.time()\n",
    "    print(f\"\\tPrediction time(train):\\t{t2-t1:3.3f}\")\n",
    "    score_test = clf.score(X_test, Y_test)\n",
    "    t3 = time.time()\n",
    "    print(f\"\\tPrediction time(test):\\t{t3-t2:3.3f}\")\n",
    "    print(f\"\\tScore Train: {score_train:.3f}\\tScore Test: {score_test:.3f}\")"
   ]
  },
  {
   "cell_type": "code",
   "execution_count": 32,
   "id": "67b5b6b2",
   "metadata": {},
   "outputs": [
    {
     "name": "stdout",
     "output_type": "stream",
     "text": [
      "0.9625 141.952383518219\n",
      "0.9695 252.95587944984436\n",
      "0.967 132.2775843143463\n",
      "0.9669 150.39331102371216\n",
      "0.9678 117.19650554656982\n"
     ]
    }
   ],
   "source": [
    "# default alpha=0.0001\n",
    "for a in [0.0001, 0.001, 0.01, 0.1, 1]:\n",
    "    mlp = MLPClassifier(hidden_layer_sizes=(75, 75), alpha=a)\n",
    "    t0 = time.time()\n",
    "    mlp.fit(X_train, Y_train)\n",
    "    t1 = time.time()\n",
    "    print(mlp.score(X_test, Y_test), t1 - t0)"
   ]
  },
  {
   "cell_type": "code",
   "execution_count": 33,
   "id": "5f70850e",
   "metadata": {},
   "outputs": [
    {
     "name": "stdout",
     "output_type": "stream",
     "text": [
      "0.9259 309.69778084754944\n",
      "0.9488 189.69403886795044\n",
      "0.9584 222.86079931259155\n",
      "0.9659 226.65382289886475\n",
      "0.9675 3181.3669922351837\n"
     ]
    }
   ],
   "source": [
    "for hl in [(25), (50), (50, 50), (100), (100, 100)]:\n",
    "    mlp = MLPClassifier(hidden_layer_sizes=hl)\n",
    "    t0 = time.time()\n",
    "    mlp.fit(X_train, Y_train)\n",
    "    t1 = time.time()\n",
    "    print(mlp.score(X_test, Y_test), t1 - t0)"
   ]
  },
  {
   "cell_type": "code",
   "execution_count": null,
   "id": "652f7192",
   "metadata": {},
   "outputs": [],
   "source": []
  }
 ],
 "metadata": {
  "kernelspec": {
   "display_name": "Python 3 (ipykernel)",
   "language": "python",
   "name": "python3"
  },
  "language_info": {
   "codemirror_mode": {
    "name": "ipython",
    "version": 3
   },
   "file_extension": ".py",
   "mimetype": "text/x-python",
   "name": "python",
   "nbconvert_exporter": "python",
   "pygments_lexer": "ipython3",
   "version": "3.9.7"
  }
 },
 "nbformat": 4,
 "nbformat_minor": 5
}
