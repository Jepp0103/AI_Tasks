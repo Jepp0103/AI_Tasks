{
 "cells": [
  {
   "cell_type": "code",
   "execution_count": 1,
   "id": "17020a3d",
   "metadata": {},
   "outputs": [],
   "source": [
    "import pandas as pd\n",
    "import pandas_profiling\n",
    "import numpy as np\n",
    "%matplotlib inline\n",
    "import matplotlib.pyplot as plt\n",
    "from sklearn.linear_model import LinearRegression"
   ]
  },
  {
   "cell_type": "code",
   "execution_count": 2,
   "id": "9a111ff1",
   "metadata": {},
   "outputs": [],
   "source": [
    "df = pd.read_csv('weight-height.csv')"
   ]
  },
  {
   "cell_type": "code",
   "execution_count": 3,
   "id": "a54bdb74",
   "metadata": {},
   "outputs": [
    {
     "name": "stdout",
     "output_type": "stream",
     "text": [
      "length of dataset: 10000\n"
     ]
    }
   ],
   "source": [
    "df.head()\n",
    "print(\"length of dataset:\", len(df))"
   ]
  },
  {
   "cell_type": "code",
   "execution_count": 4,
   "id": "4a11e973",
   "metadata": {},
   "outputs": [
    {
     "name": "stdout",
     "output_type": "stream",
     "text": [
      "x_weight_max: 269.989698505106\n",
      "y_height_max: 78.9987423463896\n",
      "x_weight_min: 64.700126712753\n",
      "y_height_min: 54.2631333250971\n"
     ]
    },
    {
     "data": {
      "text/plain": [
       "array([[  1.        , 241.89356318],\n",
       "       [  1.        , 162.31047252],\n",
       "       [  1.        , 212.74085556],\n",
       "       ...,\n",
       "       [  1.        , 128.47531878],\n",
       "       [  1.        , 163.85246135],\n",
       "       [  1.        , 113.64910268]])"
      ]
     },
     "execution_count": 4,
     "metadata": {},
     "output_type": "execute_result"
    }
   ],
   "source": [
    "x_weight = df[\"Weight\"]\n",
    "y_height = df[\"Height\"]\n",
    "x_weight_max = x_weight.max()\n",
    "y_height_max = y_height.max()\n",
    "print(\"x_weight_max:\", x_weight_max)\n",
    "print(\"y_height_max:\", y_height_max)\n",
    "x_weight_min = x_weight.min()\n",
    "y_height_min = y_height.min()\n",
    "print(\"x_weight_min:\", x_weight_min)\n",
    "print(\"y_height_min:\", y_height_min)\n",
    "\n",
    "\n",
    "m = len(y_height)\n",
    "\n",
    "X = np.zeros((m, 2))\n",
    "\n",
    "X[: ,0] = 1\n",
    "X[: ,1] = x_weight\n",
    "X"
   ]
  },
  {
   "cell_type": "code",
   "execution_count": 5,
   "id": "ddfa8c2b",
   "metadata": {},
   "outputs": [
    {
     "data": {
      "text/plain": [
       "array([73.84701702, 68.78190405, 74.11010539, ..., 63.86799221,\n",
       "       69.03424313, 61.94424588])"
      ]
     },
     "execution_count": 5,
     "metadata": {},
     "output_type": "execute_result"
    }
   ],
   "source": [
    "#Defining theta\n",
    "y_height = np.array(y_height)\n",
    "theta = np.linalg.inv(X.T.dot(X)).dot(X.T).dot(y_height)\n",
    "initial_theta = theta\n",
    "\n",
    "y_height"
   ]
  },
  {
   "cell_type": "code",
   "execution_count": 6,
   "id": "3f8a638d",
   "metadata": {},
   "outputs": [
    {
     "data": {
      "text/plain": [
       "array([48.47790261,  0.11081279])"
      ]
     },
     "execution_count": 6,
     "metadata": {},
     "output_type": "execute_result"
    }
   ],
   "source": [
    "theta"
   ]
  },
  {
   "cell_type": "code",
   "execution_count": 7,
   "id": "f95ebfb7",
   "metadata": {},
   "outputs": [
    {
     "data": {
      "text/plain": [
       "Text(0, 0.5, 'height')"
      ]
     },
     "execution_count": 7,
     "metadata": {},
     "output_type": "execute_result"
    },
    {
     "data": {
      "image/png": "[encoded data removed]",
      "text/plain": [
       "<Figure size 432x288 with 1 Axes>"
      ]
     },
     "metadata": {
      "needs_background": "light"
     },
     "output_type": "display_data"
    }
   ],
   "source": [
    "#Plotting 100 random values from dataset for greater visualisation\n",
    "df_hundred = df.sample(n=100)\n",
    "\n",
    "plt.scatter(df_hundred[\"Weight\"], df_hundred[\"Height\"])\n",
    "a = np.linspace(0, 270, 10000)\n",
    "b = theta[0] + a * theta[1]\n",
    "plt.plot(a, b)\n",
    "plt.xlabel(\"weight\")\n",
    "plt.ylabel(\"height\")"
   ]
  },
  {
   "cell_type": "code",
   "execution_count": 8,
   "id": "f200592f",
   "metadata": {},
   "outputs": [
    {
     "data": {
      "text/plain": [
       "56.660319385178816"
      ]
     },
     "execution_count": 8,
     "metadata": {},
     "output_type": "execute_result"
    }
   ],
   "source": [
    "#Hypothesis function\n",
    "def h(theta, x):\n",
    "    return theta[0] + theta[1] * x\n",
    "h(theta, 73.84)"
   ]
  },
  {
   "cell_type": "code",
   "execution_count": 9,
   "id": "38840b17",
   "metadata": {},
   "outputs": [],
   "source": [
    "def gradient_step(theta, x, y, alpha, verbose=False):\n",
    "    if verbose: print(\"Gradient step \", theta, x, y, alpha)\n",
    "    delta = np.zeros(np.shape(theta))\n",
    "    m = len(y)\n",
    "    for i in range(m):\n",
    "        delta[0] -= (2/float(m)) * (y[i] - h(theta, x[i]))\n",
    "        delta[1] -= (2/float(m)) * (y[i] - h(theta, x[i])) * x[i]\n",
    "        if verbose: print(i, delta)\n",
    "    if verbose:\n",
    "        print(\"Theta\", theta - alpha * delta)\n",
    "        print(\"Cost\", sum(1/(2*m) * np.square(h(theta, np.array(x)) - np.array(y))))\n",
    "    return theta - alpha * delta\n",
    "\n",
    "def gradient_descent(x, y, initial_theta, alpha, iterations, verbose=False):\n",
    "    theta = initial_theta\n",
    "    for i in range(iterations):\n",
    "        if verbose: print(\"** Iteration \", i)\n",
    "        theta = gradient_step(theta, x, y, alpha, verbose)\n",
    "    return theta"
   ]
  },
  {
   "cell_type": "code",
   "execution_count": 10,
   "id": "241195e7",
   "metadata": {},
   "outputs": [
    {
     "data": {
      "text/plain": [
       "array([2.39519183e+256, 4.01974131e+258])"
      ]
     },
     "execution_count": 10,
     "metadata": {},
     "output_type": "execute_result"
    }
   ],
   "source": [
    "gradient_descent(x_weight, y_height, initial_theta, 0.01, 100)"
   ]
  },
  {
   "cell_type": "code",
   "execution_count": 11,
   "id": "9e4c2e76",
   "metadata": {},
   "outputs": [],
   "source": [
    "def cost_2(theta, x, y):\n",
    "    m = np.size(y)\n",
    "    return sum(1/(2*m) * np.square(h2(theta, np.array(x)) - np.array(y)))\n",
    "\n",
    "def h2(theta, x):\n",
    "    X = np.ones([len(x),len(theta)])\n",
    "    X[:,1] = x\n",
    "    return X.dot(theta.T)\n",
    "\n",
    "def linear_cost_prime(hyp, theta, x, y):\n",
    "    delta = np.zeros(np.shape(theta))\n",
    "    delta[0] -= (2/float(m)) * sum((y - hyp(theta, x)))\n",
    "    delta[1] -= (2/float(m)) * sum((y - hyp(theta, x)) * x)\n",
    "    return delta"
   ]
  },
  {
   "cell_type": "code",
   "execution_count": 12,
   "id": "f5ad5c12",
   "metadata": {},
   "outputs": [
    {
     "data": {
      "text/plain": [
       "1.071855098441468"
      ]
     },
     "execution_count": 12,
     "metadata": {},
     "output_type": "execute_result"
    }
   ],
   "source": [
    "cost_2(initial_theta, x_weight, y_height)"
   ]
  },
  {
   "cell_type": "code",
   "execution_count": 13,
   "id": "9a446445",
   "metadata": {},
   "outputs": [
    {
     "data": {
      "text/plain": [
       "array([75.2828044 , 66.46397971, 72.0523114 , ..., 62.71461176,\n",
       "       66.6348518 , 61.07167731])"
      ]
     },
     "execution_count": 13,
     "metadata": {},
     "output_type": "execute_result"
    }
   ],
   "source": [
    "h2(initial_theta, x_weight)"
   ]
  },
  {
   "cell_type": "code",
   "execution_count": 14,
   "id": "976b0bbf",
   "metadata": {},
   "outputs": [],
   "source": [
    "def gradient_descent_2(hyp, cost, cost_prime, x, y, theta, alpha, iterations, verbose=False):\n",
    "    cost_history = []\n",
    "    delta = np.zeros(np.shape(theta))\n",
    "    for i in range(iterations):\n",
    "        if verbose: print(\"** Iteration \", i)\n",
    "        delta = cost_prime(hyp, theta, x, y)\n",
    "        theta = theta - alpha * delta\n",
    "        cost_history.append(cost(theta, x, y))\n",
    "    return theta, cost_history"
   ]
  },
  {
   "cell_type": "code",
   "execution_count": 15,
   "id": "79e7b035",
   "metadata": {},
   "outputs": [],
   "source": [
    "theta, cost_history = gradient_descent_2(h2, cost_2, linear_cost_prime, x_weight, y_height, np.array([0, 0]), 0.01, 10)"
   ]
  },
  {
   "cell_type": "code",
   "execution_count": 16,
   "id": "4b8c5dca",
   "metadata": {},
   "outputs": [],
   "source": [
    "# x_axis = np.linspace(0, 5000, 500)\n",
    "# plt.plot(x_axis, cost_history[5:505])\n",
    "# plt.title(\"Cost of approximation\")\n",
    "# plt.xlabel(\"Iterations\")\n",
    "# plt.ylabel(\"Cost\")"
   ]
  },
  {
   "cell_type": "code",
   "execution_count": 17,
   "id": "5b5a76d0",
   "metadata": {},
   "outputs": [
    {
     "data": {
      "text/plain": [
       "(48.4779026141796, array([0.11081279]))"
      ]
     },
     "execution_count": 17,
     "metadata": {},
     "output_type": "execute_result"
    }
   ],
   "source": [
    "#Assignment 11: Use SciKit Learn to make a model for the \n",
    "#data set you worked on in Assignment 10.\n",
    "X, y_height = np.array(x_weight).reshape(-1, 1), np.array(y_height)\n",
    "lg = LinearRegression().fit(X, y_height)\n",
    "lg.intercept_, lg.coef_"
   ]
  },
  {
   "cell_type": "code",
   "execution_count": null,
   "id": "d4e6dc62",
   "metadata": {},
   "outputs": [],
   "source": []
  }
 ],
 "metadata": {
  "interpreter": {
   "hash": "099a754ac63c4a9e1d5e3405420b1155526b22d573213c6f0c10836c0a4bb2c0"
  },
  "kernelspec": {
   "display_name": "Python 3 (ipykernel)",
   "language": "python",
   "name": "python3"
  },
  "language_info": {
   "codemirror_mode": {
    "name": "ipython",
    "version": 3
   },
   "file_extension": ".py",
   "mimetype": "text/x-python",
   "name": "python",
   "nbconvert_exporter": "python",
   "pygments_lexer": "ipython3",
   "version": "3.9.7"
  }
 },
 "nbformat": 4,
 "nbformat_minor": 5
}
