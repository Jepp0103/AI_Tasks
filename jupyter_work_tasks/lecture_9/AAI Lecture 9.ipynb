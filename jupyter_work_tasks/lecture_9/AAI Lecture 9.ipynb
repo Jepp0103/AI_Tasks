{
 "cells": [
  {
   "cell_type": "code",
   "execution_count": 1,
   "id": "8068c7da",
   "metadata": {},
   "outputs": [],
   "source": [
    "import numpy as np\n",
    "import matplotlib.pyplot as plt"
   ]
  },
  {
   "cell_type": "code",
   "execution_count": 2,
   "id": "40dbefeb",
   "metadata": {},
   "outputs": [],
   "source": [
    "x = [1, 3, 4.5, 5.5]\n",
    "y = [2.5, 3, 3, 3.5]"
   ]
  },
  {
   "cell_type": "code",
   "execution_count": 3,
   "id": "02ff30a8",
   "metadata": {},
   "outputs": [],
   "source": [
    "m = len(y)\n",
    "\n",
    "X = np.zeros((m, 2))"
   ]
  },
  {
   "cell_type": "code",
   "execution_count": 4,
   "id": "cb25426e",
   "metadata": {},
   "outputs": [
    {
     "data": {
      "text/plain": [
       "array([[0., 0.],\n",
       "       [0., 0.],\n",
       "       [0., 0.],\n",
       "       [0., 0.]])"
      ]
     },
     "execution_count": 4,
     "metadata": {},
     "output_type": "execute_result"
    }
   ],
   "source": [
    "X"
   ]
  },
  {
   "cell_type": "code",
   "execution_count": 5,
   "id": "021281ec",
   "metadata": {},
   "outputs": [],
   "source": [
    "X[: ,0] = 1"
   ]
  },
  {
   "cell_type": "code",
   "execution_count": 6,
   "id": "d489a444",
   "metadata": {},
   "outputs": [
    {
     "data": {
      "text/plain": [
       "array([[1., 0.],\n",
       "       [1., 0.],\n",
       "       [1., 0.],\n",
       "       [1., 0.]])"
      ]
     },
     "execution_count": 6,
     "metadata": {},
     "output_type": "execute_result"
    }
   ],
   "source": [
    "X"
   ]
  },
  {
   "cell_type": "code",
   "execution_count": 7,
   "id": "bd8a82b6",
   "metadata": {},
   "outputs": [],
   "source": [
    "X[: ,1] = x"
   ]
  },
  {
   "cell_type": "code",
   "execution_count": 8,
   "id": "0cad6c60",
   "metadata": {},
   "outputs": [
    {
     "data": {
      "text/plain": [
       "array([[1. , 1. ],\n",
       "       [1. , 3. ],\n",
       "       [1. , 4.5],\n",
       "       [1. , 5.5]])"
      ]
     },
     "execution_count": 8,
     "metadata": {},
     "output_type": "execute_result"
    }
   ],
   "source": [
    "X"
   ]
  },
  {
   "cell_type": "code",
   "execution_count": 9,
   "id": "4eb57306",
   "metadata": {},
   "outputs": [],
   "source": [
    "y = np.array(y)"
   ]
  },
  {
   "cell_type": "code",
   "execution_count": 10,
   "id": "456538d0",
   "metadata": {},
   "outputs": [
    {
     "data": {
      "text/plain": [
       "array([2.5, 3. , 3. , 3.5])"
      ]
     },
     "execution_count": 10,
     "metadata": {},
     "output_type": "execute_result"
    }
   ],
   "source": [
    "y"
   ]
  },
  {
   "cell_type": "code",
   "execution_count": 11,
   "id": "fa544f11",
   "metadata": {},
   "outputs": [],
   "source": [
    "theta = np.linalg.inv(X.T.dot(X)).dot(X.T).dot(y)"
   ]
  },
  {
   "cell_type": "code",
   "execution_count": 12,
   "id": "2e2d935e",
   "metadata": {},
   "outputs": [
    {
     "data": {
      "text/plain": [
       "array([2.31521739, 0.19565217])"
      ]
     },
     "execution_count": 12,
     "metadata": {},
     "output_type": "execute_result"
    }
   ],
   "source": [
    "theta"
   ]
  },
  {
   "cell_type": "code",
   "execution_count": 13,
   "id": "ae6da8e1",
   "metadata": {},
   "outputs": [
    {
     "data": {
      "text/plain": [
       "[<matplotlib.lines.Line2D at 0x1f1dbc7f7c0>]"
      ]
     },
     "execution_count": 13,
     "metadata": {},
     "output_type": "execute_result"
    },
    {
     "data": {
      "image/png": "[encoded data removed]",
      "text/plain": [
       "<Figure size 432x288 with 1 Axes>"
      ]
     },
     "metadata": {
      "needs_background": "light"
     },
     "output_type": "display_data"
    }
   ],
   "source": [
    "plt.scatter(x, y)\n",
    "a = np.linspace(0, 6, 2)\n",
    "b = theta[0] + a * theta[1]\n",
    "plt.plot(a , b)"
   ]
  },
  {
   "cell_type": "code",
   "execution_count": 14,
   "id": "3fe13956",
   "metadata": {},
   "outputs": [
    {
     "data": {
      "text/plain": [
       "array([0., 6.])"
      ]
     },
     "execution_count": 14,
     "metadata": {},
     "output_type": "execute_result"
    }
   ],
   "source": [
    "np.linspace(0, 6, 2)"
   ]
  },
  {
   "cell_type": "code",
   "execution_count": null,
   "id": "48c2a135",
   "metadata": {},
   "outputs": [],
   "source": []
  },
  {
   "cell_type": "code",
   "execution_count": 15,
   "id": "deaef444",
   "metadata": {},
   "outputs": [],
   "source": [
    "def h(theta, x):\n",
    "    return theta[0] + theta[1] * x"
   ]
  },
  {
   "cell_type": "code",
   "execution_count": 16,
   "id": "07797f6a",
   "metadata": {},
   "outputs": [],
   "source": [
    "def gradient_step(theta, x, y, alpha, verbose=False):\n",
    "    if verbose: print(\"Gradient step \", theta, x, y, alpha)\n",
    "    delta = np.zeros(np.shape(theta))\n",
    "    m = len(y)\n",
    "    for i in range(m):\n",
    "        delta[0] -= (2/float(m)) * (y[i] - h(theta, x[i]))\n",
    "        delta[1] -= (2/float(m)) * (y[i] - h(theta, x[i])) * x[i]\n",
    "        if verbose: print(i, delta)\n",
    "    if verbose:\n",
    "        print(\"Theta\", theta - alpha * delta)\n",
    "        print(\"Cost\", sum(1/(2*m) * np.square(h(theta, np.array(x)) - np.array(y))))\n",
    "    return theta - alpha * delta\n",
    "\n",
    "def gradient_descent(x, y, initial_theta, alpha, iterations, verbose=False):\n",
    "    theta = initial_theta\n",
    "    for i in range(iterations):\n",
    "        if verbose: print(\"** Iteration \", i)\n",
    "        theta = gradient_step(theta, x, y, alpha, verbose)\n",
    "    return theta"
   ]
  },
  {
   "cell_type": "code",
   "execution_count": 17,
   "id": "a29bfb49",
   "metadata": {},
   "outputs": [],
   "source": [
    "# let's implement a threshold"
   ]
  },
  {
   "cell_type": "code",
   "execution_count": 18,
   "id": "a597981f",
   "metadata": {},
   "outputs": [],
   "source": [
    "def gradient_step_t(theta, x, y, alpha, verbose=False):\n",
    "    if verbose: print(\"Gradient step \", theta, x, y, alpha)\n",
    "    delta = np.zeros(np.shape(theta))\n",
    "    m = len(y)\n",
    "    for i in range(m):\n",
    "        delta[0] -= (2/float(m)) * (y[i] - h(theta, x[i]))\n",
    "        delta[1] -= (2/float(m)) * (y[i] - h(theta, x[i])) * x[i]\n",
    "        if verbose: print(i, delta)\n",
    "    if verbose:\n",
    "        print(\"Theta\", theta - alpha * delta)\n",
    "        print(\"Cost\", sum(1/(2*m) * np.square(h(theta, np.array(x)) - np.array(y))))\n",
    "    return theta - alpha * delta\n",
    "\n",
    "def gradient_descent_t(x, y, initial_theta, theta_threshold, alpha, max_iterations, verbose=False):\n",
    "    theta = initial_theta\n",
    "    old_theta = initial_theta\n",
    "    for i in range(max_iterations):\n",
    "        if verbose: print(\"** Iteration \", i)\n",
    "        old_theta = theta\n",
    "        theta = gradient_step_t(theta, x, y, alpha, verbose)\n",
    "        if np.abs(theta[0] - old_theta[0]) < theta_threshold[0] and np.abs(theta[1] - old_theta[1]) < theta_threshold[1]:\n",
    "            return theta, i\n",
    "    return theta"
   ]
  },
  {
   "cell_type": "code",
   "execution_count": 19,
   "id": "ff4dafd2",
   "metadata": {},
   "outputs": [],
   "source": [
    "# even more elegant solution (vectorized)"
   ]
  },
  {
   "cell_type": "code",
   "execution_count": 20,
   "id": "af3f6450",
   "metadata": {},
   "outputs": [],
   "source": [
    "def gradient_step_t(theta, x, y, alpha, verbose=False):\n",
    "    if verbose: print(\"Gradient step \", theta, x, y, alpha)\n",
    "    delta = np.zeros(np.shape(theta))\n",
    "    m = len(y)\n",
    "    for i in range(m):\n",
    "        delta[0] -= (2/float(m)) * (y[i] - h(theta, x[i]))\n",
    "        delta[1] -= (2/float(m)) * (y[i] - h(theta, x[i])) * x[i]\n",
    "        if verbose: print(i, delta)\n",
    "    if verbose:\n",
    "        print(\"Theta\", theta - alpha * delta)\n",
    "        print(\"Cost\", sum(1/(2*m) * np.square(h(theta, np.array(x)) - np.array(y))))\n",
    "    return theta - alpha * delta\n",
    "\n",
    "def gradient_descent_t(x, y, initial_theta, theta_threshold, alpha, max_iterations, verbose=False):\n",
    "    theta = initial_theta\n",
    "    old_theta = initial_theta\n",
    "    for i in range(max_iterations):\n",
    "        if verbose: print(\"** Iteration \", i)\n",
    "        old_theta = theta\n",
    "        theta = gradient_step_t(theta, x, y, alpha, verbose)\n",
    "        if (np.abs(theta - old_theta) < theta_threshold).all():\n",
    "            return theta, i\n",
    "    return theta"
   ]
  },
  {
   "cell_type": "code",
   "execution_count": 21,
   "id": "0d4357c2",
   "metadata": {},
   "outputs": [
    {
     "data": {
      "text/plain": [
       "(array([2.28764226, 0.20211019]), 1205)"
      ]
     },
     "execution_count": 21,
     "metadata": {},
     "output_type": "execute_result"
    }
   ],
   "source": [
    "gradient_descent_t(x, y, np.array([0, 0]), np.array([0.0001, 0.0001]), 0.01, 10_000)"
   ]
  },
  {
   "cell_type": "code",
   "execution_count": 22,
   "id": "b8882279",
   "metadata": {},
   "outputs": [],
   "source": [
    "# let's vectorize the whole thing"
   ]
  },
  {
   "cell_type": "code",
   "execution_count": 23,
   "id": "29828d65",
   "metadata": {},
   "outputs": [],
   "source": [
    "def cost_2(theta, x, y):\n",
    "    m = np.size(y)\n",
    "    return sum(1/(2*m) * np.square(h2(theta, np.array(x)) - np.array(y)))\n",
    "\n",
    "def h2(theta, x):\n",
    "    X = np.ones([len(x),len(theta)])\n",
    "    X[:,1] = x\n",
    "    return X.dot(theta.T)\n",
    "\n",
    "def linear_cost_prime(hyp, theta, x, y):\n",
    "    delta = np.zeros(np.shape(theta))\n",
    "    delta[0] -= (2/float(m)) * sum((y - hyp(theta, x)))\n",
    "    delta[1] -= (2/float(m)) * sum((y - hyp(theta, x)) * x)\n",
    "    return delta\n",
    "\n",
    "def gradient_descent_2(hyp, cost, cost_prime, x, y, theta, alpha, iterations, verbose=False):\n",
    "    cost_history = []\n",
    "    delta = np.zeros(np.shape(theta))\n",
    "    for i in range(iterations):\n",
    "        if verbose: print(\"** Iteration \", i)\n",
    "        delta = cost_prime(hyp, theta, x, y)\n",
    "        theta = theta - alpha * delta\n",
    "        cost_history.append(cost(theta, x, y))\n",
    "    return theta, cost_history"
   ]
  },
  {
   "cell_type": "code",
   "execution_count": 24,
   "id": "f49069d9",
   "metadata": {},
   "outputs": [],
   "source": [
    "theta, cost_history = gradient_descent_2(h2, cost_2, linear_cost_prime, x, y, np.array([0, 0]), 0.05, 5000)"
   ]
  },
  {
   "cell_type": "code",
   "execution_count": 25,
   "id": "4b64a3ec",
   "metadata": {},
   "outputs": [
    {
     "data": {
      "text/plain": [
       "array([2.31521739, 0.19565217])"
      ]
     },
     "execution_count": 25,
     "metadata": {},
     "output_type": "execute_result"
    }
   ],
   "source": [
    "theta"
   ]
  },
  {
   "cell_type": "code",
   "execution_count": 26,
   "id": "d85d3f57",
   "metadata": {},
   "outputs": [
    {
     "data": {
      "text/plain": [
       "Text(0, 0.5, 'Cost')"
      ]
     },
     "execution_count": 26,
     "metadata": {},
     "output_type": "execute_result"
    },
    {
     "data": {
      "image/png": "[encoded data removed]",
      "text/plain": [
       "<Figure size 432x288 with 1 Axes>"
      ]
     },
     "metadata": {
      "needs_background": "light"
     },
     "output_type": "display_data"
    }
   ],
   "source": [
    "x_axis = np.linspace(0, 5000, 500)\n",
    "plt.plot(x_axis, cost_history[5:505])\n",
    "plt.title(\"Cost of approximation\")\n",
    "plt.xlabel(\"Iterations\")\n",
    "plt.ylabel(\"Cost\")"
   ]
  },
  {
   "cell_type": "code",
   "execution_count": 27,
   "id": "f87a59a1",
   "metadata": {},
   "outputs": [],
   "source": [
    "x = [1, 3, 4.5, 5.5]\n",
    "y = [2.5, 3, 3, 3.5]\n",
    "X, y = np.array(x).reshape(-1, 1), np.array(y)"
   ]
  },
  {
   "cell_type": "code",
   "execution_count": 28,
   "id": "b1c40ee8",
   "metadata": {},
   "outputs": [
    {
     "data": {
      "text/plain": [
       "array([[1. ],\n",
       "       [3. ],\n",
       "       [4.5],\n",
       "       [5.5]])"
      ]
     },
     "execution_count": 28,
     "metadata": {},
     "output_type": "execute_result"
    }
   ],
   "source": [
    "X"
   ]
  },
  {
   "cell_type": "code",
   "execution_count": null,
   "id": "ba7006d1",
   "metadata": {},
   "outputs": [],
   "source": []
  }
 ],
 "metadata": {
  "kernelspec": {
   "display_name": "Python 3 (ipykernel)",
   "language": "python",
   "name": "python3"
  },
  "language_info": {
   "codemirror_mode": {
    "name": "ipython",
    "version": 3
   },
   "file_extension": ".py",
   "mimetype": "text/x-python",
   "name": "python",
   "nbconvert_exporter": "python",
   "pygments_lexer": "ipython3",
   "version": "3.9.7"
  }
 },
 "nbformat": 4,
 "nbformat_minor": 5
}
